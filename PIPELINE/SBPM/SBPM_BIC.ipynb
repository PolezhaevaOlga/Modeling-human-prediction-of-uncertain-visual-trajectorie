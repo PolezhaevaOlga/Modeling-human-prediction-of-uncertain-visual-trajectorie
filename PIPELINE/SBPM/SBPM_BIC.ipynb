{
 "cells": [
  {
   "cell_type": "code",
   "execution_count": 2,
   "id": "d3baa4dc-4d4a-4516-b8df-6950f9d9a6ad",
   "metadata": {},
   "outputs": [],
   "source": [
    "import random\n",
    "import numpy as np\n",
    "import matplotlib.pyplot as plt\n",
    "import pathlib\n",
    "import pandas as pd\n",
    "import scipy\n",
    "from scipy.optimize import least_squares,differential_evolution\n",
    "import time\n",
    "from scipy import io\n",
    "from scipy.stats import t\n",
    "from scipy.signal import convolve\n",
    "import tqdm\n",
    "import time\n",
    "\n"
   ]
  },
  {
   "cell_type": "code",
   "execution_count": 12,
   "id": "da5b1d2e-5458-442c-af1d-bfe7dbd75316",
   "metadata": {},
   "outputs": [],
   "source": [
    "\n",
    "data = scipy.io.loadmat('../data/trajectories.mat')\n",
    "\n",
    "resp_rdw = pd.read_csv('../data/resp_rdw.csv', header=None).to_numpy().mean(axis=1)\n",
    "resp_iid = pd.read_csv('../data/resp_iid.csv', header=None).to_numpy().mean(axis=1)\n",
    "reslt = np.vstack([resp_iid,resp_rdw])\n",
    "\n",
    "acc_rdw = pd.read_csv('../data/acc_rdw.csv', header=None).to_numpy().mean(axis=1)\n",
    "acc_iid = pd.read_csv('../data/acc_iid.csv', header=None).to_numpy().mean(axis=1)\n",
    "\n",
    "corrrslt = np.vstack([acc_iid,acc_rdw])"
   ]
  },
  {
   "cell_type": "code",
   "execution_count": 8,
   "id": "3c670dc9-9fb2-4a63-8acf-b0850e53389b",
   "metadata": {},
   "outputs": [],
   "source": [
    "def getrslt(noise, nsmooth, nbias, data, indices):\n",
    "    num_indices = len(indices)\n",
    "    rmdl = np.zeros((2, num_indices))\n",
    "    nmdl = np.zeros((2, num_indices))\n",
    "    same = np.zeros((2, num_indices), dtype=bool)  # is same cond ?\n",
    "    mpos = np.zeros((2, num_indices))  # mean position\n",
    "    lpos = np.zeros((2, num_indices))  # last position\n",
    "    n = 100\n",
    "    resp = np.zeros(n)\n",
    "    mdls = [0, 1]\n",
    "    for j in mdls:\n",
    "        traind = data['iidind'][2:, ] if j == 0 else data['rdwind'][2:, ]\n",
    "        for idx, tidx in enumerate(indices):\n",
    "            invis = int(traind[0, tidx])  # - 1\n",
    "            pos = traind[1:, tidx].copy()\n",
    "            pos[-invis + 1:] = np.nan\n",
    "            lastpos = pos[-invis]  # if invis > 0 else np.nan\n",
    "            lpos[j, idx] = lastpos\n",
    "            meanpos = np.nanmean(pos)\n",
    "            mpos[j, idx] = meanpos\n",
    "            same[j, idx] = meanpos * lastpos > 0\n",
    "            nmdl[j, idx] = np.sign(meanpos if j == 0 else lastpos)\n",
    "\n",
    "            for k in range(n):\n",
    "                npos = pos + np.random.randn(len(pos)) * noise + np.random.randn() * nbias\n",
    "                segment = npos[-((invis) + nsmooth): -(invis - 1)]\n",
    "                resp[k] = np.sign(np.mean(segment))\n",
    "\n",
    "            rmdl[j, idx] = np.sum(resp * nmdl[j, idx] > 0) / n\n",
    "    return rmdl, nmdl, same, mpos, lpos\n",
    "    \n",
    "def calculate_rmse_matrices(data, nsmootharr, noisearr, nbiasarr, train_indices):\n",
    "    rms = np.zeros((len(nsmootharr), len(noisearr), len(nbiasarr)))\n",
    "    rmsiid = np.zeros_like(rms)\n",
    "    rmsrdw = np.zeros_like(rms)\n",
    "    minrms = float('inf')\n",
    "    best_params = None\n",
    "    start_time = time.time()\n",
    "\n",
    "    for j, ns in enumerate(nsmootharr):\n",
    "        for k, no in enumerate(noisearr):\n",
    "            for l, nb in enumerate(nbiasarr):\n",
    "                rmdl, nmdl, same, mpos, lpos = getrslt(no, ns, nb, data, train_indices)\n",
    "                rmsiid[j, k, l] = np.sqrt(np.nanmean((corrrslt[0, train_indices] - rmdl[0, :]) ** 2))\n",
    "                rmsrdw[j, k, l] = np.sqrt(np.nanmean((corrrslt[1, train_indices] - rmdl[1, :]) ** 2))\n",
    "                rms[j, k, l] = np.sqrt(np.nanmean((corrrslt[:, train_indices].ravel() - rmdl.ravel()) ** 2))\n",
    "\n",
    "                if rms[j, k, l] < minrms:\n",
    "                    minrms = rms[j, k, l]\n",
    "                    minrmdl = rmdl\n",
    "                    best_params = (ns, no, nb)\n",
    "\n",
    "    elapsed_time = time.time() - start_time\n",
    "    print(\"Elapsed time: {:.2f} seconds\".format(elapsed_time))\n",
    "\n",
    "    return rms, rmsiid, rmsrdw, minrms, minrmdl, best_params,same\n",
    "\n",
    "# Function to split indices into train and test\n",
    "def split_indices(indices, n_test):\n",
    "    test_indices = np.random.choice(indices, n_test, replace=False)\n",
    "    train_indices = np.setdiff1d(indices, test_indices)\n",
    "    return train_indices, test_indices"
   ]
  },
  {
   "cell_type": "code",
   "execution_count": 5,
   "id": "dc71170c-0440-4273-8b05-d11bba32fefc",
   "metadata": {},
   "outputs": [],
   "source": [
    "\n",
    "\n",
    "idx_same_ll = np.arange(0,50)\n",
    "idx_same_rr = np.arange(150,200)\n",
    "\n",
    "idx_op_lr = np.arange(50,100)\n",
    "idx_op_rl = np.arange(100,150)\n",
    "\n",
    "_, test_same_ll = split_indices(idx_same_ll, 0)\n",
    "_, test_same_rr = split_indices(idx_same_rr, 0)\n",
    "_, test_op_lr = split_indices(idx_op_lr, 0)\n",
    "_, test_op_rl = split_indices(idx_op_rl, 0)\n",
    "\n",
    "test_indices = np.hstack([test_same_ll, test_same_rr, test_op_lr, test_op_rl])\n",
    "train_indices = np.setdiff1d(np.hstack([idx_same_ll, idx_same_rr, idx_op_lr, idx_op_rl]), test_indices)"
   ]
  },
  {
   "cell_type": "code",
   "execution_count": null,
   "id": "ac9e700b-c7fc-49e6-8252-f1256155aa0d",
   "metadata": {
    "scrolled": true
   },
   "outputs": [],
   "source": [
    "nsmootharr = np.arange(7)\n",
    "noisearr = np.arange(7)\n",
    "nbiasarr = np.arange(7)\n",
    "\n",
    "rms, rmsiid, rmsrdw, minrms, minrmdl, best_params,same = calculate_rmse_matrices(data, nsmootharr, noisearr, nbiasarr, train_indices)\n",
    "print(\"Minimum RMSE (Train):\", minrms)\n",
    "print(\"Best parameters for minimum RMSE (Train):\", best_params)"
   ]
  },
  {
   "cell_type": "code",
   "execution_count": null,
   "id": "4770aef9-a21e-4bbb-9b91-ad2d3b94a2ec",
   "metadata": {
    "scrolled": true
   },
   "outputs": [],
   "source": [
    "# 1. nbiasarr = 0\n",
    "nsmootharr = np.arange(7)\n",
    "\n",
    "noisearr = np.arange(7)\n",
    "# nbiasarr = np.arange(7)\n",
    "nbiasarr = np.zeros(7)\n",
    "rms_no_center_noise, rmsiid_no_center_noise, rmsrdw_no_center_noise, minrmse_no_center_noise,minrmdl_no_center_noise, best_params_no_center_noise,same = calculate_rmse_matrices(\n",
    "    data, nsmootharr, noisearr, nbiasarr, train_indices\n",
    ")\n",
    "print(\"(nbiasarr = 0):\")\n",
    "print(\"Min RMSE:\", minrmse_no_center_noise)\n",
    "print(\"Best params:\", best_params_no_center_noise) "
   ]
  },
  {
   "cell_type": "code",
   "execution_count": null,
   "id": "bbe1a3eb-5513-4154-b9e0-0415f121a075",
   "metadata": {
    "scrolled": true
   },
   "outputs": [],
   "source": [
    "# 2. noisearr = 0\n",
    "nsmootharr = np.arange(7)\n",
    "\n",
    "#noisearr = np.arange(7)\n",
    "noisearr = np.zeros(7)\n",
    "nbiasarr = np.arange(7)\n",
    "#nbiasarr = np.zeros(7)\n",
    "\n",
    "rms_no_noise, rmsiid_no_noise, rmsrdw_no_noise, minrmse_no_noise,minrmdl_no_noise, best_params_no_noise,same = calculate_rmse_matrices(\n",
    "    data, nsmootharr, noisearr, nbiasarr, train_indices\n",
    ")\n",
    "print(\"(nbiasarr = 0):\")\n",
    "print(\"Min RMSE:\", minrmse_no_noise)\n",
    "print(\"Best params:\", best_params_no_noise) "
   ]
  },
  {
   "cell_type": "code",
   "execution_count": 12,
   "id": "abe1166e-e69c-4cfe-ae35-d6cf8b049bd0",
   "metadata": {},
   "outputs": [
    {
     "data": {
      "image/png": "[encoded data removed]",
      "text/plain": [
       "<Figure size 640x480 with 1 Axes>"
      ]
     },
     "metadata": {},
     "output_type": "display_data"
    }
   ],
   "source": [
    "import matplotlib.pyplot as plt\n",
    "\n",
    "# nbiasarr = 0\n",
    "plt.plot(np.arange(7), rms_no_center_noise.min(axis=(0, 1)), marker='o', label='nbiasarr = 0')\n",
    "\n",
    "# noisearr = 0\n",
    "plt.plot(np.arange(7), rms_no_noise.min(axis=(0, 2)), marker='o', label='noisearr = 0')\n",
    "\n",
    "plt.xlabel('Parameter Value')\n",
    "plt.ylabel('Min RMSE')\n",
    "\n",
    "plt.legend()\n",
    "plt.grid()\n",
    "plt.show()"
   ]
  },
  {
   "cell_type": "code",
   "execution_count": 3,
   "id": "fa788f0d-81ea-4b3f-94f4-5e8a9a43018e",
   "metadata": {},
   "outputs": [],
   "source": [
    "import numpy as np"
   ]
  },
  {
   "cell_type": "code",
   "execution_count": 5,
   "id": "75fdc761-f574-4ea9-abf3-6ad94f001357",
   "metadata": {},
   "outputs": [],
   "source": [
    "rmse_no_centerbias = 0.726\n",
    "n = 400\n",
    "rmse_no_noize = 0.712\n",
    "rmse_full = 0.14"
   ]
  },
  {
   "cell_type": "code",
   "execution_count": 10,
   "id": "d908c076-5f53-4e85-93b6-1e349c55410f",
   "metadata": {},
   "outputs": [
    {
     "name": "stdout",
     "output_type": "stream",
     "text": [
      "BIC no center bias: -116.099\n",
      "BIC no noize: -123.888\n",
      "BIC full: -768.471\n"
     ]
    }
   ],
   "source": [
    "bic_no_cb = calculate_bic(n, rmse_no_centerbias, 2)\n",
    "bic_no_noise = calculate_bic(n, rmse_no_noize, 2)\n",
    "bic_full = calculate_bic(n, rmse_full, 3)\n",
    "print('BIC no center bias: %.3f' % bic_no_cb)\n",
    "print('BIC no noize: %.3f' % bic_no_noise)\n",
    "\n",
    "print('BIC full: %.3f' % bic_full)"
   ]
  },
  {
   "cell_type": "code",
   "execution_count": 2,
   "id": "37ee2ef4-8efa-4f63-b1e4-8081d7086f2d",
   "metadata": {},
   "outputs": [],
   "source": [
    "\n",
    "def calculate_bic(n, mse, num_params):\n",
    "\tbic = n * np.log(mse) + num_params * np.log(n)\n",
    "\treturn bic\n",
    "\n",
    "def calculate_aic(n, mse, num_params):\n",
    "\taic = n * np.log(mse) + 2 * num_params\n",
    "\treturn aic"
   ]
  },
  {
   "cell_type": "code",
   "execution_count": 35,
   "id": "c1097a29-a2a4-4a64-a286-c654153d05ca",
   "metadata": {},
   "outputs": [
    {
     "name": "stdout",
     "output_type": "stream",
     "text": [
      "AIC: -782.445\n",
      "BIC: -774.462\n"
     ]
    }
   ],
   "source": [
    "aic = calculate_aic(n, rmse_full, 2)\n",
    "print('AIC: %.3f' % aic)\n",
    "\n",
    "bic = calculate_bic(n, rmse_full, 2)\n",
    "print('BIC: %.3f' % bic)"
   ]
  },
  {
   "cell_type": "code",
   "execution_count": 36,
   "id": "7da4bbd4-744d-46ed-b520-e8610ec04d2c",
   "metadata": {},
   "outputs": [
    {
     "name": "stdout",
     "output_type": "stream",
     "text": [
      "AIC: -125.948\n",
      "BIC: -121.956\n"
     ]
    }
   ],
   "source": [
    "aic = calculate_aic(n, rmse_single, 1)\n",
    "print('AIC: %.3f' % aic)\n",
    "\n",
    "bic = calculate_bic(n, rmse_single, 1)\n",
    "print('BIC: %.3f' % bic)"
   ]
  },
  {
   "cell_type": "code",
   "execution_count": 25,
   "id": "8240f0e5-918a-4c1d-a236-73ffa73b564a",
   "metadata": {},
   "outputs": [
    {
     "name": "stdout",
     "output_type": "stream",
     "text": [
      "BIC (nbiasarr = 0): -249.90435184344386\n",
      "BIC (all param): -1560.9073560040501\n"
     ]
    }
   ],
   "source": [
    "n = corrrslt.size\n",
    "\n",
    "\n",
    "rmse_single = minrmse_no_center_noise  \n",
    "k_single = 1  \n",
    "\n",
    "\n",
    "rmse_full = 0.14\n",
    "k_full = 2  \n",
    "\n",
    "\n",
    "bic_single = n * np.log(rmse_single**2) + k_single * np.log(n)\n",
    "bic_full = n * np.log(rmse_full**2) + k_full * np.log(n)\n",
    "\n",
    "print(\"BIC (nbiasarr = 0):\", bic_single)\n",
    "print(\"BIC (all param):\", bic_full)"
   ]
  }
 ],
 "metadata": {
  "kernelspec": {
   "display_name": "Python 3 (ipykernel)",
   "language": "python",
   "name": "python3"
  },
  "language_info": {
   "codemirror_mode": {
    "name": "ipython",
    "version": 3
   },
   "file_extension": ".py",
   "mimetype": "text/x-python",
   "name": "python",
   "nbconvert_exporter": "python",
   "pygments_lexer": "ipython3",
   "version": "3.11.7"
  }
 },
 "nbformat": 4,
 "nbformat_minor": 5
}
